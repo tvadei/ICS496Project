{
 "cells": [
  {
   "cell_type": "markdown",
   "id": "c202a0eb-3133-4a70-9647-b5743a98119e",
   "metadata": {},
   "source": [
    "# ICS 496 Project\n",
    "## Data Preprocessing and Cleaning\n",
    "Two data sources\n",
    "Flight plans (XML)\n",
    "Position Reports (SQL Lite)\n",
    "\n",
    "Let's begin with the flight plans"
   ]
  },
  {
   "cell_type": "code",
   "id": "1a0abef9-bc22-48c3-9a28-6c305e98e265",
   "metadata": {
    "ExecuteTime": {
     "end_time": "2025-03-27T09:32:30.730087Z",
     "start_time": "2025-03-27T09:32:27.811877Z"
    }
   },
   "source": [
    "import pandas as pd"
   ],
   "outputs": [],
   "execution_count": 1
  },
  {
   "metadata": {
    "ExecuteTime": {
     "end_time": "2025-03-27T11:08:55.442753Z",
     "start_time": "2025-03-27T11:08:54.733828Z"
    }
   },
   "cell_type": "code",
   "source": [
    "# Load the CSV\n",
    "df = pd.read_csv('flight_waypoints_output.csv')\n",
    "\n",
    "# Get dimensions\n",
    "rows, columns = df.shape\n",
    "\n",
    "print(f\"CSV has {rows} rows and {columns} columns.\")"
   ],
   "id": "3ec6819bb1cf4f7b",
   "outputs": [
    {
     "name": "stdout",
     "output_type": "stream",
     "text": [
      "CSV has 557282 rows and 13 columns.\n"
     ]
    }
   ],
   "execution_count": 2
  },
  {
   "metadata": {
    "ExecuteTime": {
     "end_time": "2025-03-27T11:10:38.467084Z",
     "start_time": "2025-03-27T11:10:38.446712Z"
    }
   },
   "cell_type": "code",
   "source": "df.head()",
   "id": "6fb115ad5f21708a",
   "outputs": [
    {
     "data": {
      "text/plain": [
       "  Commercial Flight Number Departure Date Departure Airport  \\\n",
       "0                   HA1101     2025-01-31               ITO   \n",
       "1                   HA1101     2025-01-31               ITO   \n",
       "2                   HA1101     2025-01-31               ITO   \n",
       "3                   HA1101     2025-01-31               ITO   \n",
       "4                   HA1101     2025-01-31               ITO   \n",
       "\n",
       "         Departure Time Arrival Airport          Arrival Time Waypoint Name  \\\n",
       "0  2025-01-31T04:40:00Z             HNL  2025-01-31T05:25:00Z          PHTO   \n",
       "1  2025-01-31T04:40:00Z             HNL  2025-01-31T05:25:00Z           ITO   \n",
       "2  2025-01-31T04:40:00Z             HNL  2025-01-31T05:25:00Z         OKALA   \n",
       "3  2025-01-31T04:40:00Z             HNL  2025-01-31T05:25:00Z         TIGAH   \n",
       "4  2025-01-31T04:40:00Z             HNL  2025-01-31T05:25:00Z           UPP   \n",
       "\n",
       "   Latitude  Longitude  Altitude (ft)  Wind Speed (kt)  Temperature (C)  \\\n",
       "0   70992.0  -558174.1            NaN                0              0.0   \n",
       "1   70998.0  -558042.0            NaN               43              NaN   \n",
       "2   72078.0  -558954.0            NaN               24              NaN   \n",
       "3   72288.0  -559632.0            NaN               36              NaN   \n",
       "4   72720.0  -561036.0            NaN               41              NaN   \n",
       "\n",
       "   Fuel On Board (lb)  \n",
       "0               13658  \n",
       "1               13556  \n",
       "2               12605  \n",
       "3               12298  \n",
       "4               11722  "
      ],
      "text/html": [
       "<div>\n",
       "<style scoped>\n",
       "    .dataframe tbody tr th:only-of-type {\n",
       "        vertical-align: middle;\n",
       "    }\n",
       "\n",
       "    .dataframe tbody tr th {\n",
       "        vertical-align: top;\n",
       "    }\n",
       "\n",
       "    .dataframe thead th {\n",
       "        text-align: right;\n",
       "    }\n",
       "</style>\n",
       "<table border=\"1\" class=\"dataframe\">\n",
       "  <thead>\n",
       "    <tr style=\"text-align: right;\">\n",
       "      <th></th>\n",
       "      <th>Commercial Flight Number</th>\n",
       "      <th>Departure Date</th>\n",
       "      <th>Departure Airport</th>\n",
       "      <th>Departure Time</th>\n",
       "      <th>Arrival Airport</th>\n",
       "      <th>Arrival Time</th>\n",
       "      <th>Waypoint Name</th>\n",
       "      <th>Latitude</th>\n",
       "      <th>Longitude</th>\n",
       "      <th>Altitude (ft)</th>\n",
       "      <th>Wind Speed (kt)</th>\n",
       "      <th>Temperature (C)</th>\n",
       "      <th>Fuel On Board (lb)</th>\n",
       "    </tr>\n",
       "  </thead>\n",
       "  <tbody>\n",
       "    <tr>\n",
       "      <th>0</th>\n",
       "      <td>HA1101</td>\n",
       "      <td>2025-01-31</td>\n",
       "      <td>ITO</td>\n",
       "      <td>2025-01-31T04:40:00Z</td>\n",
       "      <td>HNL</td>\n",
       "      <td>2025-01-31T05:25:00Z</td>\n",
       "      <td>PHTO</td>\n",
       "      <td>70992.0</td>\n",
       "      <td>-558174.1</td>\n",
       "      <td>NaN</td>\n",
       "      <td>0</td>\n",
       "      <td>0.0</td>\n",
       "      <td>13658</td>\n",
       "    </tr>\n",
       "    <tr>\n",
       "      <th>1</th>\n",
       "      <td>HA1101</td>\n",
       "      <td>2025-01-31</td>\n",
       "      <td>ITO</td>\n",
       "      <td>2025-01-31T04:40:00Z</td>\n",
       "      <td>HNL</td>\n",
       "      <td>2025-01-31T05:25:00Z</td>\n",
       "      <td>ITO</td>\n",
       "      <td>70998.0</td>\n",
       "      <td>-558042.0</td>\n",
       "      <td>NaN</td>\n",
       "      <td>43</td>\n",
       "      <td>NaN</td>\n",
       "      <td>13556</td>\n",
       "    </tr>\n",
       "    <tr>\n",
       "      <th>2</th>\n",
       "      <td>HA1101</td>\n",
       "      <td>2025-01-31</td>\n",
       "      <td>ITO</td>\n",
       "      <td>2025-01-31T04:40:00Z</td>\n",
       "      <td>HNL</td>\n",
       "      <td>2025-01-31T05:25:00Z</td>\n",
       "      <td>OKALA</td>\n",
       "      <td>72078.0</td>\n",
       "      <td>-558954.0</td>\n",
       "      <td>NaN</td>\n",
       "      <td>24</td>\n",
       "      <td>NaN</td>\n",
       "      <td>12605</td>\n",
       "    </tr>\n",
       "    <tr>\n",
       "      <th>3</th>\n",
       "      <td>HA1101</td>\n",
       "      <td>2025-01-31</td>\n",
       "      <td>ITO</td>\n",
       "      <td>2025-01-31T04:40:00Z</td>\n",
       "      <td>HNL</td>\n",
       "      <td>2025-01-31T05:25:00Z</td>\n",
       "      <td>TIGAH</td>\n",
       "      <td>72288.0</td>\n",
       "      <td>-559632.0</td>\n",
       "      <td>NaN</td>\n",
       "      <td>36</td>\n",
       "      <td>NaN</td>\n",
       "      <td>12298</td>\n",
       "    </tr>\n",
       "    <tr>\n",
       "      <th>4</th>\n",
       "      <td>HA1101</td>\n",
       "      <td>2025-01-31</td>\n",
       "      <td>ITO</td>\n",
       "      <td>2025-01-31T04:40:00Z</td>\n",
       "      <td>HNL</td>\n",
       "      <td>2025-01-31T05:25:00Z</td>\n",
       "      <td>UPP</td>\n",
       "      <td>72720.0</td>\n",
       "      <td>-561036.0</td>\n",
       "      <td>NaN</td>\n",
       "      <td>41</td>\n",
       "      <td>NaN</td>\n",
       "      <td>11722</td>\n",
       "    </tr>\n",
       "  </tbody>\n",
       "</table>\n",
       "</div>"
      ]
     },
     "execution_count": 3,
     "metadata": {},
     "output_type": "execute_result"
    }
   ],
   "execution_count": 3
  },
  {
   "metadata": {
    "ExecuteTime": {
     "end_time": "2025-03-27T11:13:20.029736Z",
     "start_time": "2025-03-27T11:13:19.995713Z"
    }
   },
   "cell_type": "code",
   "source": [
    "# Example: Get unique values in the \"Commercial Flight Number\" column\n",
    "unique_flights = df[\"Departure Date\"].unique()\n",
    "\n",
    "print(\"Unique Commercial Flight Numbers:\")\n",
    "print(unique_flights)"
   ],
   "id": "3cc72b1f9751f45b",
   "outputs": [
    {
     "name": "stdout",
     "output_type": "stream",
     "text": [
      "Unique Commercial Flight Numbers:\n",
      "['2025-01-31' '2025-02-17' '2025-01-18' '2025-01-09' '2025-02-13'\n",
      " '2025-03-05' '2025-02-08' '2025-01-14' '2025-02-12' '2025-01-05'\n",
      " '2025-02-28' '2025-01-22' '2025-03-04' '2025-02-10' '2025-01-29'\n",
      " '2025-01-21' '2025-03-06' '2025-01-26' '2025-01-11' '2025-02-18'\n",
      " '2025-01-17' '2025-02-11' '2025-03-07' '2025-03-02' '2025-01-23'\n",
      " '2025-02-22' '2025-02-03' '2025-01-27' '2025-02-06' '2025-01-13'\n",
      " '2025-01-12' '2025-02-14' '2025-02-20' '2025-01-19' '2025-02-21'\n",
      " '2025-03-03' '2025-02-26' '2025-02-07' '2025-03-01' '2025-01-30'\n",
      " '2025-01-08' '2025-01-02' '2025-02-25' '2025-01-24' '2025-01-20'\n",
      " '2025-03-08' '2025-02-09' '2025-01-16' '2025-01-15' '2025-02-01'\n",
      " '2025-01-01' '2025-01-10' '2025-02-24' '2025-03-09' '2025-03-10'\n",
      " '2025-02-23' '2025-02-19' '2025-01-07' '2025-02-05' '2025-01-04'\n",
      " '2025-01-06' '2025-02-15' '2025-02-04' '2025-02-02' '2025-01-28'\n",
      " '2025-01-25' '2025-02-27' '2025-02-16' '2025-01-03']\n"
     ]
    }
   ],
   "execution_count": 5
  }
 ],
 "metadata": {
  "kernelspec": {
   "display_name": "Python 3 (ipykernel)",
   "language": "python",
   "name": "python3"
  },
  "language_info": {
   "codemirror_mode": {
    "name": "ipython",
    "version": 3
   },
   "file_extension": ".py",
   "mimetype": "text/x-python",
   "name": "python",
   "nbconvert_exporter": "python",
   "pygments_lexer": "ipython3",
   "version": "3.13.2"
  }
 },
 "nbformat": 4,
 "nbformat_minor": 5
}
